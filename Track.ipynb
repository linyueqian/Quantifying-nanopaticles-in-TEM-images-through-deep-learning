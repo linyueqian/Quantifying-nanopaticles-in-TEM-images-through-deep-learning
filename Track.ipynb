{
 "cells": [
  {
   "cell_type": "markdown",
   "metadata": {},
   "source": [
    "# Track.ipynb\n",
    "Author: Yueqian Lin\n"
   ]
  },
  {
   "cell_type": "code",
   "execution_count": 1,
   "metadata": {},
   "outputs": [],
   "source": [
    "from __future__ import division, unicode_literals, print_function  # for compatibility with Python 2 and 3\n",
    "\n",
    "import matplotlib as mpl\n",
    "import matplotlib.pyplot as plt\n",
    "\n",
    "# change the following to %matplotlib notebook for interactive plotting\n",
    "%matplotlib inline\n",
    "\n",
    "# Optionally, tweak styles.\n",
    "mpl.rc('figure',  figsize=(14, 14))\n",
    "mpl.rc('image', cmap='gray')\n",
    "import numpy as np\n",
    "import pandas as pd\n",
    "from pandas import DataFrame, Series  # for convenience\n",
    "\n",
    "import pims\n",
    "import trackpy as tp"
   ]
  },
  {
   "cell_type": "code",
   "execution_count": 2,
   "metadata": {},
   "outputs": [],
   "source": [
    "@pims.pipeline\n",
    "def gray(image):\n",
    "    return image[:, :, 1]  # Take just the green channel\n",
    "\n",
    "# frames = (pims.open('/home/yl768/UVM_H/images/46k_105C/*.tif'))\n",
    "frames = (pims.open('/home/yl768/UVM_H/images/100k_95C/*.tif'))"
   ]
  },
  {
   "cell_type": "code",
   "execution_count": 3,
   "metadata": {},
   "outputs": [],
   "source": [
    "import pandas as pd\n",
    "import os\n",
    " \n",
    "# path\n",
    "path = '/home/yl768/UVM_H/output/100K_100/'\n",
    " \n",
    "# file list\n",
    "files = []\n",
    "for file in os.listdir(path):\n",
    "    if file.endswith(\".txt\"):\n",
    "        files.append(path+file)\n",
    "files.sort()\n",
    "overall=pd.DataFrame()\n",
    "j=0\n",
    "for i in files:\n",
    "\n",
    "    data = pd.read_csv(i,sep=' ', header=None)\n",
    "\n",
    "    data[4]=(data[0]+data[2])/2\n",
    "    data[5]=(data[1]+data[3])/2\n",
    "    data.columns = [\"Xmin\", \"Ymin\", \"Xmax\", \"Ymax\", \"x\", \"y\"]\n",
    "    data.to_csv(i[:-3]+'csv',na_rep='NA')\n",
    "    data['size']=(data['Xmax']-data['Xmin'])*(data['Ymax']-data['Ymin'])\n",
    "    data['frame']=j\n",
    "    data=data[['x','y','size','frame']]\n",
    "    j=j+1\n",
    "    overall=overall.append(data, ignore_index=True)\n",
    "#sort_list = data_count_list.reset_index().sort_values('price',ascending = False).set_index('course_id')"
   ]
  },
  {
   "cell_type": "code",
   "execution_count": 4,
   "metadata": {},
   "outputs": [
    {
     "data": {
      "text/html": [
       "<div>\n",
       "<style scoped>\n",
       "    .dataframe tbody tr th:only-of-type {\n",
       "        vertical-align: middle;\n",
       "    }\n",
       "\n",
       "    .dataframe tbody tr th {\n",
       "        vertical-align: top;\n",
       "    }\n",
       "\n",
       "    .dataframe thead th {\n",
       "        text-align: right;\n",
       "    }\n",
       "</style>\n",
       "<table border=\"1\" class=\"dataframe\">\n",
       "  <thead>\n",
       "    <tr style=\"text-align: right;\">\n",
       "      <th></th>\n",
       "      <th>x</th>\n",
       "      <th>y</th>\n",
       "      <th>size</th>\n",
       "      <th>frame</th>\n",
       "    </tr>\n",
       "  </thead>\n",
       "  <tbody>\n",
       "    <tr>\n",
       "      <th>0</th>\n",
       "      <td>775.0</td>\n",
       "      <td>51.0</td>\n",
       "      <td>252</td>\n",
       "      <td>0</td>\n",
       "    </tr>\n",
       "    <tr>\n",
       "      <th>1</th>\n",
       "      <td>1223.5</td>\n",
       "      <td>428.5</td>\n",
       "      <td>165</td>\n",
       "      <td>0</td>\n",
       "    </tr>\n",
       "    <tr>\n",
       "      <th>2</th>\n",
       "      <td>1074.5</td>\n",
       "      <td>1913.0</td>\n",
       "      <td>204</td>\n",
       "      <td>0</td>\n",
       "    </tr>\n",
       "    <tr>\n",
       "      <th>3</th>\n",
       "      <td>1401.0</td>\n",
       "      <td>1675.5</td>\n",
       "      <td>182</td>\n",
       "      <td>0</td>\n",
       "    </tr>\n",
       "    <tr>\n",
       "      <th>4</th>\n",
       "      <td>378.5</td>\n",
       "      <td>1086.5</td>\n",
       "      <td>143</td>\n",
       "      <td>0</td>\n",
       "    </tr>\n",
       "    <tr>\n",
       "      <th>...</th>\n",
       "      <td>...</td>\n",
       "      <td>...</td>\n",
       "      <td>...</td>\n",
       "      <td>...</td>\n",
       "    </tr>\n",
       "    <tr>\n",
       "      <th>4232</th>\n",
       "      <td>1043.5</td>\n",
       "      <td>1462.5</td>\n",
       "      <td>187</td>\n",
       "      <td>22</td>\n",
       "    </tr>\n",
       "    <tr>\n",
       "      <th>4233</th>\n",
       "      <td>94.5</td>\n",
       "      <td>1871.0</td>\n",
       "      <td>110</td>\n",
       "      <td>22</td>\n",
       "    </tr>\n",
       "    <tr>\n",
       "      <th>4234</th>\n",
       "      <td>705.0</td>\n",
       "      <td>1744.0</td>\n",
       "      <td>120</td>\n",
       "      <td>22</td>\n",
       "    </tr>\n",
       "    <tr>\n",
       "      <th>4235</th>\n",
       "      <td>324.0</td>\n",
       "      <td>851.0</td>\n",
       "      <td>144</td>\n",
       "      <td>22</td>\n",
       "    </tr>\n",
       "    <tr>\n",
       "      <th>4236</th>\n",
       "      <td>925.0</td>\n",
       "      <td>1935.5</td>\n",
       "      <td>182</td>\n",
       "      <td>22</td>\n",
       "    </tr>\n",
       "  </tbody>\n",
       "</table>\n",
       "<p>4237 rows × 4 columns</p>\n",
       "</div>"
      ],
      "text/plain": [
       "           x       y  size  frame\n",
       "0      775.0    51.0   252      0\n",
       "1     1223.5   428.5   165      0\n",
       "2     1074.5  1913.0   204      0\n",
       "3     1401.0  1675.5   182      0\n",
       "4      378.5  1086.5   143      0\n",
       "...      ...     ...   ...    ...\n",
       "4232  1043.5  1462.5   187     22\n",
       "4233    94.5  1871.0   110     22\n",
       "4234   705.0  1744.0   120     22\n",
       "4235   324.0   851.0   144     22\n",
       "4236   925.0  1935.5   182     22\n",
       "\n",
       "[4237 rows x 4 columns]"
      ]
     },
     "execution_count": 4,
     "metadata": {},
     "output_type": "execute_result"
    }
   ],
   "source": [
    "overall"
   ]
  },
  {
   "cell_type": "code",
   "execution_count": 41,
   "metadata": {},
   "outputs": [],
   "source": [
    "overall.to_csv(path+\"100K_95C_NP_overall.csv\")"
   ]
  },
  {
   "cell_type": "code",
   "execution_count": 5,
   "metadata": {},
   "outputs": [
    {
     "name": "stdout",
     "output_type": "stream",
     "text": [
      "Frame 22: 181 trajectories present.\n"
     ]
    }
   ],
   "source": [
    "# link the point to trajectgory try diiferent values of the parameters! (memory means how many images it memorize \n",
    "# before finding the next occurence)\n",
    "t = tp.link(overall,22, memory=22)"
   ]
  },
  {
   "cell_type": "code",
   "execution_count": 6,
   "metadata": {},
   "outputs": [
    {
     "name": "stdout",
     "output_type": "stream",
     "text": [
      "Before: 805\n",
      "After: 51\n"
     ]
    }
   ],
   "source": [
    "# filter the trajectory by how many numbers of frames in total it shows up\n",
    "t1 = tp.filter_stubs(t, 17 )\n",
    "# Compare the number of particles in the unfiltered and filtered data.\n",
    "print('Before:', t['particle'].nunique())\n",
    "print('After:', t1['particle'].nunique())"
   ]
  },
  {
   "cell_type": "code",
   "execution_count": 92,
   "metadata": {},
   "outputs": [
    {
     "data": {
      "image/png": "[encoded data removed]",
      "text/plain": [
       "<Figure size 1008x1008 with 1 Axes>"
      ]
     },
     "metadata": {
      "needs_background": "light"
     },
     "output_type": "display_data"
    }
   ],
   "source": [
    "# we don't compute drift now\n",
    "d = tp.compute_drift(t)\n",
    "plot=d.plot()\n",
    "plt.show()\n",
    "fig = plot.get_figure()\n",
    "#fig.savefig(\"output.png\",bbox_inches = 'tight',dpi=fig.dpi,pad_inches=0.0)\n",
    "fig.savefig(path+\"100k_drift.png\",bbox_inches = 'tight',dpi=fig.dpi)\n"
   ]
  },
  {
   "cell_type": "code",
   "execution_count": 94,
   "metadata": {},
   "outputs": [],
   "source": [
    "d.to_csv(path+'100k_drift.csv')"
   ]
  },
  {
   "cell_type": "code",
   "execution_count": 95,
   "metadata": {},
   "outputs": [
    {
     "data": {
      "image/png": "[encoded data removed]",
      "text/plain": [
       "<Figure size 1008x1008 with 1 Axes>"
      ]
     },
     "metadata": {},
     "output_type": "display_data"
    }
   ],
   "source": [
    "tm = tp.subtract_drift(t1.copy(), d)\n",
    "plt.figure(figsize=(14, 14))\n",
    "plt.xticks([]) # 不显示x轴\n",
    "plt.yticks([]) # 不显示y轴\n",
    "plt.axis('off')\n",
    "plot=tp.plot_traj(tm)\n",
    "plt.show()\n",
    "fig = plot.get_figure()\n",
    "#fig.savefig(\"output.png\",bbox_inches = 'tight',dpi=fig.dpi,pad_inches=0.0)\n",
    "fig.savefig(path+\"100k_without_drift.png\",bbox_inches = 'tight',dpi=fig.dpi)"
   ]
  },
  {
   "cell_type": "code",
   "execution_count": 36,
   "metadata": {},
   "outputs": [
    {
     "data": {
      "image/png": "[encoded data removed]",
      "text/plain": [
       "<Figure size 1008x1008 with 1 Axes>"
      ]
     },
     "metadata": {},
     "output_type": "display_data"
    }
   ],
   "source": [
    "# plt.figure(dpi=600,figsize=(4, 4))\n",
    "plt.xticks([]) # 不显示x轴\n",
    "plt.yticks([]) # 不显示y轴\n",
    "plt.axis('off')\n",
    "plot = tp.plot_traj(t1)\n",
    "fig = plot.get_figure()\n",
    "#fig.savefig(\"output.png\",bbox_inches = 'tight',dpi=fig.dpi,pad_inches=0.0)\n",
    "fig.savefig(path+\"100k_with_drift.png\",bbox_inches = 'tight',dpi=fig.dpi)\n"
   ]
  },
  {
   "cell_type": "code",
   "execution_count": 96,
   "metadata": {},
   "outputs": [
    {
     "data": {
      "text/plain": [
       "True"
      ]
     },
     "execution_count": 96,
     "metadata": {},
     "output_type": "execute_result"
    }
   ],
   "source": [
    "import cv2\n",
    "\n",
    "# Change the image background to white\n",
    "def transparence2white(img):\n",
    "    sp=img.shape \n",
    "    width=sp[0]  \n",
    "    height=sp[1]  \n",
    "    for yh in range(height):\n",
    "        for xw in range(width):\n",
    "            color_d=img[xw,yh] \n",
    "            if(color_d[3]==0):  \n",
    "                img[xw,yh]=[255,255,255,255]  \n",
    "    return img\n",
    "\n",
    "img=cv2.imread(path+\"100k_without_drift.png\",-1)  \n",
    "img=transparence2white(img)  \n",
    "cv2.imwrite(path+\"100k_without_drift_white_background.png\",img)  \n",
    "\n"
   ]
  },
  {
   "cell_type": "code",
   "execution_count": 7,
   "metadata": {},
   "outputs": [
    {
     "name": "stdout",
     "output_type": "stream",
     "text": [
      "444.0 436.5\n",
      "1289.5 1274.0\n",
      "1875.0 1854.0\n",
      "1790.0 1782.0\n",
      "1347.0 1332.5\n",
      "451.0 444.0\n",
      "1983.0 1959.5\n",
      "437.0 428.0\n",
      "1967.0 1944.5\n",
      "962.0 951.5\n",
      "1109.5 1104.5\n",
      "2033.0 2009.0\n",
      "1613.0 1601.5\n",
      "2009.0 1985.5\n",
      "447.5 444.0\n",
      "1050.5 1040.5\n",
      "1828.0 1812.0\n",
      "1066.5 1056.0\n",
      "101.5 101.0\n",
      "1501.5 1494.0\n",
      "424.0 420.5\n",
      "436.0 428.5\n",
      "232.5 224.0\n",
      "873.5 866.5\n",
      "471.0 460.0\n",
      "1609.0 1597.0\n",
      "1151.5 1140.5\n",
      "1413.0 1401.5\n",
      "1220.5 1209.0\n",
      "1394.0 1378.0\n",
      "1289.5 1278.0\n",
      "1079.0 1067.0\n",
      "1059.5 1048.0\n",
      "654.5 651.0\n",
      "1021.0 1013.0\n",
      "1355.5 1343.5\n",
      "935.5 936.0\n",
      "2109.0 2085.5\n",
      "201.5 205.0\n",
      "956.0 951.0\n",
      "921.0 913.0\n",
      "1151.5 1140.0\n",
      "525.5 517.0\n",
      "1959.0 1925.0\n",
      "628.0 620.5\n",
      "913.5 905.5\n",
      "1766.0 1743.5\n",
      "1797.0 1774.5\n",
      "509.5 502.0\n",
      "574.0 567.5\n",
      "971.0 958.5\n"
     ]
    }
   ],
   "source": [
    "# export the trajectory\n",
    "from PIL import Image, ImageDraw\n",
    "\n",
    "df=t1\n",
    "df=df.sort_values(by='particle')\n",
    "df['color']=None\n",
    "df\n",
    "j=0\n",
    "tmp=0\n",
    "color=\"red\"\n",
    "\n",
    " \n",
    "\n",
    "data=df.sort_values(by='particle')\n",
    "data.set_index(['particle','frame',],inplace=True)\n",
    "data.sort_index(inplace=True)\n",
    "\n",
    "\n",
    "df=data.reset_index(level=1)\n",
    "tmp=0\n",
    "j=0\n",
    "# we don't draw the lines now\n",
    "# for i in range(df.shape[0]-1):\n",
    "#     if (tmp!=j): \n",
    "\n",
    "#         tmp=j\n",
    "#     if (j==df.index[i] and j==df.index[i+1]):\n",
    "#         draw.line((df.iloc[i,1], df.iloc[i,2],df.iloc[i+1,1],df.iloc[i+1,2]) ,df.iloc[i,4], width=3) #线的起点和终点，线宽\n",
    "#     else:\n",
    "#         j=j+1\n",
    "import math\n",
    "j=df.index[0]\n",
    "tmp=False\n",
    "minx=0\n",
    "miny=0\n",
    "maxx=0\n",
    "maxy=0\n",
    "df['distance']=None\n",
    "for i in range(df.shape[0]+1):\n",
    "    if i == df.shape[0]:\n",
    "        maxx=df.iloc[i-1,1]\n",
    "        maxy=df.iloc[i-1,2]\n",
    "        print(minx,maxx)\n",
    "#         color=getColor()\n",
    "        df.iloc[i-1,5]=(math.sqrt((maxx-minx)**2+(maxy-miny)**2))\n",
    "        break\n",
    "    if (j==df.index[i]):\n",
    "        if tmp == False:\n",
    "            minx=df.iloc[i,1]\n",
    "            miny=df.iloc[i,2]\n",
    "        tmp=True  \n",
    "    else:\n",
    "        tmp=False\n",
    "        \n",
    "        j=df.index[i]\n",
    "        maxx=df.iloc[i-1,1]\n",
    "        maxy=df.iloc[i-1,2]\n",
    "        print(minx,maxx)\n",
    "#         color=getColor()\n",
    "        df.iloc[i-1,5]=(math.sqrt((maxx-minx)**2+(maxy-miny)**2))\n",
    "        \n",
    "        #draw.line((minx, miny,maxx,maxy) ,color, width=3)\n",
    "#         draw.text((minx,miny),str(np.format_float_positional((df.iloc[i-1,5]/250), precision=2, unique=True, fractional=False, trim='-')), fill =df.iloc[i-1,4])\n",
    "        minx=0\n",
    "        miny=0\n",
    "        maxx=0\n",
    "        maxy=0\n",
    "\n",
    "        \n",
    "# img1.save(\"distance6.png\")\n",
    "\n",
    "\n",
    "\n",
    "\n"
   ]
  },
  {
   "cell_type": "code",
   "execution_count": 9,
   "metadata": {},
   "outputs": [],
   "source": [
    "# * a coefficient to get the distance in um\n",
    "df['distance(um)']=None\n",
    "for i in range(df.shape[0]):\n",
    "    if df.iloc[i,5]!= None:\n",
    "        df.iloc[i,6]=df.iloc[i,5]/128\n",
    "a=df[['frame','x','y','size','distance','distance(um)']]\n",
    "a.to_excel(path+'1100k_distance_with_drift-new.xls')"
   ]
  },
  {
   "cell_type": "code",
   "execution_count": 86,
   "metadata": {},
   "outputs": [
    {
     "data": {
      "text/html": [
       "<div>\n",
       "<style scoped>\n",
       "    .dataframe tbody tr th:only-of-type {\n",
       "        vertical-align: middle;\n",
       "    }\n",
       "\n",
       "    .dataframe tbody tr th {\n",
       "        vertical-align: top;\n",
       "    }\n",
       "\n",
       "    .dataframe thead th {\n",
       "        text-align: right;\n",
       "    }\n",
       "</style>\n",
       "<table border=\"1\" class=\"dataframe\">\n",
       "  <thead>\n",
       "    <tr style=\"text-align: right;\">\n",
       "      <th></th>\n",
       "      <th>frame</th>\n",
       "      <th>x</th>\n",
       "      <th>y</th>\n",
       "      <th>size</th>\n",
       "      <th>distance</th>\n",
       "      <th>distance(um)</th>\n",
       "    </tr>\n",
       "    <tr>\n",
       "      <th>particle</th>\n",
       "      <th></th>\n",
       "      <th></th>\n",
       "      <th></th>\n",
       "      <th></th>\n",
       "      <th></th>\n",
       "      <th></th>\n",
       "    </tr>\n",
       "  </thead>\n",
       "  <tbody>\n",
       "    <tr>\n",
       "      <th>2205</th>\n",
       "      <td>19</td>\n",
       "      <td>523.128339</td>\n",
       "      <td>520.335822</td>\n",
       "      <td>56</td>\n",
       "      <td>0.70209</td>\n",
       "      <td>0.00548508</td>\n",
       "    </tr>\n",
       "    <tr>\n",
       "      <th>2206</th>\n",
       "      <td>16</td>\n",
       "      <td>138.229533</td>\n",
       "      <td>442.274655</td>\n",
       "      <td>70</td>\n",
       "      <td>None</td>\n",
       "      <td>None</td>\n",
       "    </tr>\n",
       "    <tr>\n",
       "      <th>2206</th>\n",
       "      <td>17</td>\n",
       "      <td>137.668785</td>\n",
       "      <td>442.805029</td>\n",
       "      <td>56</td>\n",
       "      <td>None</td>\n",
       "      <td>None</td>\n",
       "    </tr>\n",
       "    <tr>\n",
       "      <th>2206</th>\n",
       "      <td>18</td>\n",
       "      <td>136.311967</td>\n",
       "      <td>440.298211</td>\n",
       "      <td>72</td>\n",
       "      <td>None</td>\n",
       "      <td>None</td>\n",
       "    </tr>\n",
       "    <tr>\n",
       "      <th>2206</th>\n",
       "      <td>19</td>\n",
       "      <td>138.628339</td>\n",
       "      <td>440.835822</td>\n",
       "      <td>72</td>\n",
       "      <td>2.19055</td>\n",
       "      <td>0.0171137</td>\n",
       "    </tr>\n",
       "  </tbody>\n",
       "</table>\n",
       "</div>"
      ],
      "text/plain": [
       "          frame           x           y  size distance distance(um)\n",
       "particle                                                           \n",
       "2205         19  523.128339  520.335822    56  0.70209   0.00548508\n",
       "2206         16  138.229533  442.274655    70     None         None\n",
       "2206         17  137.668785  442.805029    56     None         None\n",
       "2206         18  136.311967  440.298211    72     None         None\n",
       "2206         19  138.628339  440.835822    72  2.19055    0.0171137"
      ]
     },
     "execution_count": 86,
     "metadata": {},
     "output_type": "execute_result"
    }
   ],
   "source": [
    "a.tail()"
   ]
  }
 ],
 "metadata": {
  "kernelspec": {
   "display_name": "Python 3",
   "language": "python",
   "name": "python3"
  },
  "language_info": {
   "codemirror_mode": {
    "name": "ipython",
    "version": 3
   },
   "file_extension": ".py",
   "mimetype": "text/x-python",
   "name": "python",
   "nbconvert_exporter": "python",
   "pygments_lexer": "ipython3",
   "version": "3.8.5"
  }
 },
 "nbformat": 4,
 "nbformat_minor": 4
}
